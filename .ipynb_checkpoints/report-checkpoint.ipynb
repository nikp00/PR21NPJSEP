{
 "cells": [
  {
   "cell_type": "markdown",
   "metadata": {
    "lang": "sl"
   },
   "source": [
    "# Napovedovanje cen kripto valut, s pomočjo pogovorov na socialnih platformah\n",
    "\n",
    "Podatkovno rudarjenje, projektna naloga, `18.5.2021`  \n",
    "**`Nik Prinčič`**  \n",
    "**`Jaka Škerjanc`**  \n",
    "**`Erik Pahor`**\n"
   ]
  },
  {
   "cell_type": "markdown",
   "metadata": {
    "lang": "sl"
   },
   "source": [
    "### Opis problema\n",
    "\n",
    "Področje naše raziskave je trg kripto valut, bolj natančno kako pogovori na platformah kot sta Discord in Reddit, kjer si mnenja izmenjujeo predvsem kripto navdušenci, vplivajo na gibanje cen. Osredotočili se bomo predvsem na kriptovalute z nizko tržno kapitalizacijo (market cap).\n",
    "\n",
    "Izbrane naloge, ki jih želimo raziskat:\n",
    "\n",
    "* Ali lahko iz objav napovemo spremembo cene?\n",
    "* Poiskati povezavo med ceno in popularnostjo na Reddit/Discord\n",
    "* Ali kateri kovanci posebej izstopajo?\n",
    "* Kako se je spreminajalo zanimanje za kripto valute?\n"
   ]
  },
  {
   "cell_type": "markdown",
   "metadata": {
    "lang": "sl"
   },
   "source": [
    "### Pridobivanje podatkov\n",
    "\n",
    "Podatke o objavah uporabnikov smo dobili na dveh platformah\n",
    "\n",
    "* Discord: Tri skupnosti kripto navdušencev skupno preko 130.000 članov. Za obdobje od 1.2.2021 do 31.3.2021 smo pridobili skupno 1.700.000 sporočil. Ker Discord ne omogoča dostopa do sporočil preko kašnega vmesnika (npr. API), smo morali podatke pridobiti z programom [DiscordChatExporter](https://github.com/Tyrrrz/DiscordChatExporter), ki nam vrne .csv obliko. Da zmanjšamo velikost izbrišemo vse nepotrebne metapodatke. Na koncu nam ostane vsebina sporočila ter datum in čas.\n",
    "* Reddit: Tukaj smo poiskali 4 \"subreddite\", kjer imajo vsak dan oziroma teden objavo v kateri uporabniki debatirajo o trenutno aktualnih zadevah. Pridobili smo komentarje iz 71 takih objav. Za to smo uporabili [PRAW: The Python Reddit API Wrapper](https://github.com/praw-dev/praw).\n"
   ]
  },
  {
   "cell_type": "code",
   "execution_count": 1,
   "metadata": {},
   "outputs": [],
   "source": [
    "#python spaghetti code here"
   ]
  },
  {
   "cell_type": "markdown",
   "metadata": {},
   "source": [
    "### Izvedene analize\n",
    "\n",
    "Podatke o objavah uporabnikov smo dobili na dveh platformah\n"
   ]
  },
  {
   "cell_type": "code",
   "execution_count": 2,
   "metadata": {},
   "outputs": [],
   "source": [
    "#python spaghetti code here"
   ]
  },
  {
   "cell_type": "markdown",
   "metadata": {},
   "source": [
    "### Glavne ugotovitve\n",
    "\n",
    "Trenutno smo še osredotočeni na pridobivanje čim več kvalitetnih podatkov, ki bodo v nadaljevanju osnova za uspešno iskanje odgovorov v podatkih.\n"
   ]
  }
 ],
 "metadata": {
  "kernelspec": {
   "display_name": "Python 3",
   "language": "python",
   "name": "python3"
  },
  "language_info": {
   "codemirror_mode": {
    "name": "ipython",
    "version": 3
   },
   "file_extension": ".py",
   "mimetype": "text/x-python",
   "name": "python",
   "nbconvert_exporter": "python",
   "pygments_lexer": "ipython3",
   "version": "3.7.0"
  },
  "latex_envs": {
   "LaTeX_envs_menu_present": true,
   "autocomplete": true,
   "bibliofile": "biblio.bib",
   "cite_by": "apalike",
   "current_citInitial": 1,
   "eqLabelWithNumbers": true,
   "eqNumInitial": 1,
   "hotkeys": {
    "equation": "Ctrl-E",
    "itemize": "Ctrl-I"
   },
   "labels_anchors": false,
   "latex_user_defs": false,
   "report_style_numbering": false,
   "user_envs_cfg": false
  },
  "nbTranslate": {
   "displayLangs": [
    "sl"
   ],
   "hotkey": "alt-t",
   "langInMainMenu": true,
   "sourceLang": "sl",
   "targetLang": "en",
   "useGoogleTranslate": true
  }
 },
 "nbformat": 4,
 "nbformat_minor": 2
}
