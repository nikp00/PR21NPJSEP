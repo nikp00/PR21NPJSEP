{
 "cells": [
  {
   "cell_type": "code",
   "execution_count": 100,
   "metadata": {},
   "outputs": [],
   "source": [
    "import pandas as pd\n",
    "import numpy as np\n",
    "import matplotlib.pyplot as plt\n",
    "import datetime\n",
    "\n",
    "import os\n",
    "\n",
    "# %matplotlib"
   ]
  },
  {
   "cell_type": "code",
   "execution_count": 183,
   "metadata": {},
   "outputs": [],
   "source": [
    "BASE_PATH = os.path.abspath(os.path.curdir)\n",
    "PRICE_DATA_DIR = os.path.join(BASE_PATH, \"data/price_data/\")\n",
    "MENTIONS_COUNT_DIR = os.path.join(BASE_PATH, \"data/date_count\")\n",
    "\n",
    "COLOR_MAIN = \"#363A45\"\n",
    "COLOR_MA_5 = \"#FF9800\"\n",
    "COLOR_MA_8 = \"#E040FB\"\n",
    "COLOR_MA_13 = \"#9C27B0\"\n",
    "COLOR_VOLUME = \"#B2B5BE\"\n",
    "\n",
    "MIN_DATE = \"2021-02-01 00:00:00\"\n",
    "MAX_DATE = \"2021-04-05 03:00:00\"\n",
    "\n",
    "\n",
    "TRACKED_COIN = \"RVN\"\n",
    "\n",
    "plt.style.use(\"seaborn\")\n"
   ]
  },
  {
   "cell_type": "code",
   "execution_count": 184,
   "metadata": {},
   "outputs": [],
   "source": [
    "def date_parser(timestamp):\n",
    "    return datetime.datetime.fromtimestamp(int(timestamp))\n",
    "\n",
    "\n",
    "def add_rolling_mean(\n",
    "    df, attrs: list, intervals: list, group_by=None, min_eq_max=True, min_w=1\n",
    "):\n",
    "    df = df.copy()\n",
    "    for attr in attrs:\n",
    "        for interval in intervals:\n",
    "            interval *= 4\n",
    "            if min_eq_max:\n",
    "                min_w = interval\n",
    "            if group_by != None:\n",
    "                df[f\"{attr}_MA_{int(interval/4)}\"] = df.groupby(group_by)[\n",
    "                    attr\n",
    "                ].transform(lambda x: x.rolling(interval, min_w).mean())\n",
    "            else:\n",
    "                df[f\"{attr}_MA_{int(interval/4)}\"] = df[attr].transform(\n",
    "                    lambda x: x.rolling(interval, min_w).mean()\n",
    "                )\n",
    "    return df"
   ]
  },
  {
   "cell_type": "code",
   "execution_count": 185,
   "metadata": {},
   "outputs": [
    {
     "name": "stdout",
     "output_type": "stream",
     "text": [
      "<class 'pandas.core.frame.DataFrame'>\n",
      "DatetimeIndex: 1514 entries, 2021-02-01 00:00:00 to 2021-04-05 02:00:00\n",
      "Data columns (total 1 columns):\n",
      " #   Column  Non-Null Count  Dtype  \n",
      "---  ------  --------------  -----  \n",
      " 0   price   1514 non-null   float64\n",
      "dtypes: float64(1)\n",
      "memory usage: 23.7 KB\n",
      "<class 'pandas.core.frame.DataFrame'>\n",
      "DatetimeIndex: 1514 entries, 2021-02-01 00:00:00 to 2021-04-05 02:00:00\n",
      "Data columns (total 1 columns):\n",
      " #   Column  Non-Null Count  Dtype  \n",
      "---  ------  --------------  -----  \n",
      " 0   volume  1514 non-null   float64\n",
      "dtypes: float64(1)\n",
      "memory usage: 23.7 KB\n",
      "<class 'pandas.core.frame.DataFrame'>\n",
      "DatetimeIndex: 1516 entries, 2021-02-01 00:00:00 to 2021-04-05 03:00:00\n",
      "Data columns (total 1 columns):\n",
      " #   Column  Non-Null Count  Dtype\n",
      "---  ------  --------------  -----\n",
      " 0   count   1516 non-null   int64\n",
      "dtypes: int64(1)\n",
      "memory usage: 23.7 KB\n"
     ]
    }
   ],
   "source": [
    "price_data = pd.read_csv(\n",
    "    open(os.path.join(PRICE_DATA_DIR, TRACKED_COIN, f\"{TRACKED_COIN}_price.csv\"), \"r\"),\n",
    "    parse_dates=True,\n",
    "    date_parser=date_parser,\n",
    "    index_col=\"date\",\n",
    ")\n",
    "\n",
    "volume_data = pd.read_csv(\n",
    "    open(os.path.join(PRICE_DATA_DIR, TRACKED_COIN, f\"{TRACKED_COIN}_volume.csv\"), \"r\"),\n",
    "    parse_dates=True,\n",
    "    date_parser=date_parser,\n",
    "    index_col=\"date\",\n",
    ")\n",
    "\n",
    "mentions_data = pd.read_csv(\n",
    "    open(os.path.join(MENTIONS_COUNT_DIR, f\"{TRACKED_COIN}.csv\"), \"r\"),\n",
    "    parse_dates=True,\n",
    "    date_parser=date_parser,\n",
    "    index_col=\"date\",\n",
    ")\n",
    "\n",
    "price_data.info()\n",
    "volume_data.info()\n",
    "mentions_data.info()\n"
   ]
  },
  {
   "cell_type": "code",
   "execution_count": 186,
   "metadata": {},
   "outputs": [
    {
     "data": {
      "text/html": "<div>\n<style scoped>\n    .dataframe tbody tr th:only-of-type {\n        vertical-align: middle;\n    }\n\n    .dataframe tbody tr th {\n        vertical-align: top;\n    }\n\n    .dataframe thead th {\n        text-align: right;\n    }\n</style>\n<table border=\"1\" class=\"dataframe\">\n  <thead>\n    <tr style=\"text-align: right;\">\n      <th></th>\n      <th>count</th>\n      <th>count_MA_5</th>\n      <th>count_MA_8</th>\n      <th>count_MA_13</th>\n    </tr>\n    <tr>\n      <th>date</th>\n      <th></th>\n      <th></th>\n      <th></th>\n      <th></th>\n    </tr>\n  </thead>\n  <tbody>\n    <tr>\n      <th>2021-02-01 00:00:00</th>\n      <td>17</td>\n      <td>NaN</td>\n      <td>NaN</td>\n      <td>NaN</td>\n    </tr>\n    <tr>\n      <th>2021-02-01 01:00:00</th>\n      <td>1</td>\n      <td>NaN</td>\n      <td>NaN</td>\n      <td>NaN</td>\n    </tr>\n    <tr>\n      <th>2021-02-01 02:00:00</th>\n      <td>2</td>\n      <td>NaN</td>\n      <td>NaN</td>\n      <td>NaN</td>\n    </tr>\n    <tr>\n      <th>2021-02-01 03:00:00</th>\n      <td>1</td>\n      <td>NaN</td>\n      <td>NaN</td>\n      <td>NaN</td>\n    </tr>\n    <tr>\n      <th>2021-02-01 04:00:00</th>\n      <td>1</td>\n      <td>NaN</td>\n      <td>NaN</td>\n      <td>NaN</td>\n    </tr>\n    <tr>\n      <th>...</th>\n      <td>...</td>\n      <td>...</td>\n      <td>...</td>\n      <td>...</td>\n    </tr>\n    <tr>\n      <th>2021-04-04 23:00:00</th>\n      <td>0</td>\n      <td>0.05</td>\n      <td>0.03125</td>\n      <td>0.019231</td>\n    </tr>\n    <tr>\n      <th>2021-04-05 00:00:00</th>\n      <td>0</td>\n      <td>0.05</td>\n      <td>0.03125</td>\n      <td>0.019231</td>\n    </tr>\n    <tr>\n      <th>2021-04-05 01:00:00</th>\n      <td>0</td>\n      <td>0.05</td>\n      <td>0.03125</td>\n      <td>0.019231</td>\n    </tr>\n    <tr>\n      <th>2021-04-05 02:00:00</th>\n      <td>0</td>\n      <td>0.05</td>\n      <td>0.03125</td>\n      <td>0.019231</td>\n    </tr>\n    <tr>\n      <th>2021-04-05 03:00:00</th>\n      <td>0</td>\n      <td>0.05</td>\n      <td>0.03125</td>\n      <td>0.019231</td>\n    </tr>\n  </tbody>\n</table>\n<p>1516 rows × 4 columns</p>\n</div>",
      "text/plain": "                     count  count_MA_5  count_MA_8  count_MA_13\ndate                                                           \n2021-02-01 00:00:00     17         NaN         NaN          NaN\n2021-02-01 01:00:00      1         NaN         NaN          NaN\n2021-02-01 02:00:00      2         NaN         NaN          NaN\n2021-02-01 03:00:00      1         NaN         NaN          NaN\n2021-02-01 04:00:00      1         NaN         NaN          NaN\n...                    ...         ...         ...          ...\n2021-04-04 23:00:00      0        0.05     0.03125     0.019231\n2021-04-05 00:00:00      0        0.05     0.03125     0.019231\n2021-04-05 01:00:00      0        0.05     0.03125     0.019231\n2021-04-05 02:00:00      0        0.05     0.03125     0.019231\n2021-04-05 03:00:00      0        0.05     0.03125     0.019231\n\n[1516 rows x 4 columns]"
     },
     "execution_count": 186,
     "metadata": {},
     "output_type": "execute_result"
    }
   ],
   "source": [
    "price_data = add_rolling_mean(price_data, [\"price\"], [5, 8, 13])\n",
    "mentions_data = add_rolling_mean(mentions_data, [\"count\"], [5, 8, 13])\n",
    "\n",
    "mentions_data\n"
   ]
  },
  {
   "cell_type": "code",
   "execution_count": 188,
   "metadata": {},
   "outputs": [
    {
     "data": {
      "text/plain": "Text(0.5, 0.98, 'RVN')"
     },
     "execution_count": 188,
     "metadata": {},
     "output_type": "execute_result"
    }
   ],
   "source": [
    "fig, ax1 = plt.subplots(2, 1, figsize=(20, 14))\n",
    "\n",
    "date_range = pd.date_range(\n",
    "    start=MIN_DATE,\n",
    "    end=MAX_DATE,\n",
    "    freq=\"D\",\n",
    ")\n",
    "\n",
    "ax1[0].bar(\n",
    "    height=volume_data[\"volume\"],\n",
    "    x=volume_data.index,\n",
    "    color=COLOR_VOLUME,\n",
    "    label=\"Volume\",\n",
    ")\n",
    "\n",
    "ax2 = ax1[0].twinx()\n",
    "ax2.plot(price_data[\"price\"], color=COLOR_MAIN, label=\"Price\")\n",
    "ax2.plot(price_data[\"price_MA_5\"], color=COLOR_MA_5, label=\"Price 5h SMA\")\n",
    "ax2.plot(price_data[\"price_MA_8\"], color=COLOR_MA_8, label=\"Price 8h SMA\")\n",
    "ax2.plot(price_data[\"price_MA_13\"], color=COLOR_MA_13, label=\"Price 13h SMA\")\n",
    "\n",
    "ax1[1].plot(mentions_data[\"count_MA_5\"], color=COLOR_MA_5, label=\"Mentios 5h SMA\")\n",
    "ax1[1].plot(mentions_data[\"count_MA_8\"], color=COLOR_MA_8, label=\"Mentios 8h SMA\")\n",
    "ax1[1].plot(mentions_data[\"count_MA_13\"], color=COLOR_MA_13, label=\"Mentios 13h SMA\")\n",
    "\n",
    "ax1[0].set_xlim(\n",
    "    [\n",
    "        datetime.datetime.fromisoformat(MIN_DATE),\n",
    "        datetime.datetime.fromisoformat(MAX_DATE),\n",
    "    ]\n",
    ")\n",
    "\n",
    "ax1[1].set_xlim(\n",
    "    [\n",
    "        datetime.datetime.fromisoformat(MIN_DATE),\n",
    "        datetime.datetime.fromisoformat(MAX_DATE),\n",
    "    ]\n",
    ")\n",
    "\n",
    "ax1[0].xaxis.set_ticks(date_range)\n",
    "ax1[0].set_xticklabels(\n",
    "    [pd.to_datetime(e).date() for e in date_range.values], rotation=45\n",
    ")\n",
    "\n",
    "ax1[1].xaxis.set_ticks(date_range)\n",
    "ax1[1].set_xticklabels(\n",
    "    [pd.to_datetime(e).date() for e in date_range.values], rotation=45\n",
    ")\n",
    "\n",
    "h1, l1 = ax1[0].get_legend_handles_labels()\n",
    "h2, l2 = ax2.get_legend_handles_labels()\n",
    "ax1[0].legend(h1 + h2, l1 + l2, loc=2)\n",
    "\n",
    "ax1[1].legend(loc=0)\n",
    "\n",
    "fig.suptitle(TRACKED_COIN)\n"
   ]
  }
 ],
 "metadata": {
  "interpreter": {
   "hash": "31f2aee4e71d21fbe5cf8b01ff0e069b9275f58929596ceb00d14d90e3e16cd6"
  },
  "kernelspec": {
   "display_name": "Python 3.8.5 64-bit",
   "name": "python3"
  },
  "language_info": {
   "codemirror_mode": {
    "name": "ipython",
    "version": 3
   },
   "file_extension": ".py",
   "mimetype": "text/x-python",
   "name": "python",
   "nbconvert_exporter": "python",
   "pygments_lexer": "ipython3",
   "version": "3.8.5"
  },
  "metadata": {
   "interpreter": {
    "hash": "31f2aee4e71d21fbe5cf8b01ff0e069b9275f58929596ceb00d14d90e3e16cd6"
   }
  },
  "orig_nbformat": 2
 },
 "nbformat": 4,
 "nbformat_minor": 2
}